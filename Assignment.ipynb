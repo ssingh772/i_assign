{
 "cells": [
  {
   "cell_type": "markdown",
   "id": "b145011b",
   "metadata": {},
   "source": [
    "# 1. In the below elements which of them are values or an expression? eg:- values can be integer or string and expressions will be mathematical operators.\n",
    "* -> expression\n",
    "'hello' -> value\n",
    "-87.8 -> value\n",
    "- -> expression\n",
    "/ -> expression\n",
    "+ -> expression\n",
    "6 -> value\n"
   ]
  },
  {
   "cell_type": "markdown",
   "id": "23516f8b",
   "metadata": {},
   "source": [
    "# 2. What is the difference between string and variable?\n",
    "Variable holds a value. \n",
    "String is the type of value"
   ]
  },
  {
   "cell_type": "markdown",
   "id": "de876a5a",
   "metadata": {},
   "source": [
    "# 3. Describe three different data types.\n",
    "1. int - numeric value\n",
    "2. str - text value\n",
    "3. bool - True or False"
   ]
  },
  {
   "cell_type": "markdown",
   "id": "5395ae9a",
   "metadata": {},
   "source": [
    "# 4. What is an expression made up of? What do all expressions do?\n",
    "An expression is a combination of values, variables, operators, and calls to functions. Expressions are evaluated and displays the result."
   ]
  },
  {
   "cell_type": "markdown",
   "id": "3321270f",
   "metadata": {},
   "source": [
    "# 5. This assignment statements, like spam = 10. What is the difference between an expression and a statement?\n",
    "Expressions can be assigned or used as operands, while statements can only be declared"
   ]
  },
  {
   "cell_type": "code",
   "execution_count": 2,
   "id": "d7703d02",
   "metadata": {},
   "outputs": [
    {
     "data": {
      "text/plain": [
       "23"
      ]
     },
     "execution_count": 2,
     "metadata": {},
     "output_type": "execute_result"
    }
   ],
   "source": [
    "# 6. After running the following code, what does the variable bacon contain\n",
    "bacon = 22\n",
    "bacon + 1\n",
    "\n",
    "# bacon = 23"
   ]
  },
  {
   "cell_type": "code",
   "execution_count": 5,
   "id": "3d57fdaa",
   "metadata": {},
   "outputs": [
    {
     "data": {
      "text/plain": [
       "'spamspamspam'"
      ]
     },
     "execution_count": 5,
     "metadata": {},
     "output_type": "execute_result"
    }
   ],
   "source": [
    "# 7. What should the values of the following two terms be?\n",
    "'spam' + 'spamspam'\n",
    "'spam' * 3\n",
    " \n",
    "# Result - 'spamspamspam'"
   ]
  },
  {
   "cell_type": "code",
   "execution_count": 6,
   "id": "80f66057",
   "metadata": {},
   "outputs": [],
   "source": [
    "# 8. Why is eggs a valid variable name while 100 is invalid?\n",
    "\n",
    "# Result - integer cannot be variable name"
   ]
  },
  {
   "cell_type": "code",
   "execution_count": 7,
   "id": "f7ca0265",
   "metadata": {},
   "outputs": [],
   "source": [
    "# 9. What three functions can be used to get the integer, floating-point number, or string version of a value?\n",
    "\n",
    "# int() , float() , str()"
   ]
  },
  {
   "cell_type": "code",
   "execution_count": 10,
   "id": "5f1bb64c",
   "metadata": {},
   "outputs": [
    {
     "data": {
      "text/plain": [
       "'I have eaten99burritos'"
      ]
     },
     "execution_count": 10,
     "metadata": {},
     "output_type": "execute_result"
    }
   ],
   "source": [
    "# 10. Why does this expression cause an error? How can you fix it?\n",
    "'I have eaten'+99+'burritos'\n",
    "\n",
    "Result - 'I have eaten'+'99'+'burritos'"
   ]
  },
  {
   "cell_type": "code",
   "execution_count": null,
   "id": "46cf7c9b",
   "metadata": {},
   "outputs": [],
   "source": []
  },
  {
   "cell_type": "code",
   "execution_count": null,
   "id": "32c344f0",
   "metadata": {},
   "outputs": [],
   "source": []
  }
 ],
 "metadata": {
  "kernelspec": {
   "display_name": "Python 3 (ipykernel)",
   "language": "python",
   "name": "python3"
  },
  "language_info": {
   "codemirror_mode": {
    "name": "ipython",
    "version": 3
   },
   "file_extension": ".py",
   "mimetype": "text/x-python",
   "name": "python",
   "nbconvert_exporter": "python",
   "pygments_lexer": "ipython3",
   "version": "3.10.9"
  }
 },
 "nbformat": 4,
 "nbformat_minor": 5
}
